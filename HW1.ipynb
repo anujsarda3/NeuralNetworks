{
 "cells": [
  {
   "cell_type": "markdown",
   "metadata": {},
   "source": [
    "# Q2) Neural Networks from Scratch"
   ]
  },
  {
   "cell_type": "code",
   "execution_count": 181,
   "metadata": {},
   "outputs": [],
   "source": [
    "import seaborn as sns\n",
    "import matplotlib.pyplot as plt"
   ]
  },
  {
   "cell_type": "code",
   "execution_count": 140,
   "metadata": {},
   "outputs": [],
   "source": [
    "import numpy as np\n",
    "from sklearn import datasets\n",
    "from scipy.special import expit\n",
    "import warnings\n",
    "from sklearn import datasets\n",
    "\n",
    "warnings.filterwarnings('ignore')\n",
    "\n",
    "class NeuralNetworks:\n",
    "    def __init__(self,layers,mdata,target,epochs,batchSize,alpha):\n",
    "        self.layers = layers  #To define all the number of neurons in each layer as a list \n",
    "        self.epochs = epochs #Number of Epochs\n",
    "        self.batchSize = batchSize #BatchSize\n",
    "        self.alpha = alpha #Learning Rate\n",
    "        self.parameters = [] #To store the parameters/weights for all layers\n",
    "        self.activation = [] #To store the activation of each layer\n",
    "        self.delta = []  #To store the Delat of each layer\n",
    "        for i in range(len(layers)-1):\n",
    "            self.parameters.append(np.random.randn(self.layers[i+1],self.layers[i]+1)*0.03) #Initializing the weights \n",
    "        self.mnistDataTrain = mdata[:42000]\n",
    "        self.mnistDataVal = mdata[42000:]\n",
    "        self.targetTrain = self.oneHot(target[:42000]) #Converting the Train target using oneHot\n",
    "        self.targetVal = self.oneHot(target[42000:]) #Converting the Validation target using oneHot\n",
    "        self.accuracyTrain = []\n",
    "        self.accuracyVal = []\n",
    "\n",
    "    # Function for Neural Networks Processing\n",
    "    def neuralNet(self):\n",
    "        m = self.mnistDataTrain.shape[0]\n",
    "        for j in range(self.epochs): # Running for total number of EPOCHS\n",
    "            for i in range(0,m,self.batchSize): #Passing the batchSize of samples\n",
    "                self.activation.append(np.hstack((np.ones((self.batchSize,1)),self.mnistDataTrain[i:i+self.batchSize]))) #Adding the bias neuron to the 1st activation layer \n",
    "                self.forwardPropagation(self.batchSize) #Forward propagation to calculate the acitvation for every layer\n",
    "                self.delta.append(((self.activation[-1]-self.targetTrain[i:i+self.batchSize])*self.activation[-1]*(1-self.activation[-1]))/self.batchSize) #Calculating the delta for the last layer\n",
    "                self.backwardPropagation() #Backward propagation for calculating the delta for every layer\n",
    "                for i in range(len(self.parameters)-1): #Updating every weight parameters\n",
    "                    self.parameters[i] -= self.alpha * np.dot(self.delta[i].T,self.activation[i])\n",
    "                self.parameters[i+1] -= self.alpha * np.dot(self.delta[i+1].T,self.activation[i+1])\n",
    "                self.activation = [] #Cleaning the activation and delta list for next batch \n",
    "                self.delta = []\n",
    "            accTrain, lossTrain = self.calcAccuracy(self.mnistDataTrain,self.targetTrain) #Calculate the accuracy and loss after one 1 epoch on training set\n",
    "            accVal, lossVal = self.calcAccuracy(self.mnistDataVal,self.targetVal) #Calculate the accuracy and loss after one 1 epoch on validation set\n",
    "            self.accuracyTrain.append(accTrain)\n",
    "            self.accuracyVal.append(accVal)\n",
    "            if (j+1)%10==0:\n",
    "                print(\"Epochs {}: \\n Train Set \\t Loss: {} \\t Accuracy = {} \\n Validation Set \\t Loss: {} \\t Accuracy = {}\".format(j+1,lossTrain,accTrain,lossVal,accVal))\n",
    "        \n",
    "    #Forward Propagation for calculating activation for every layer\n",
    "    def forwardPropagation(self,lengthMat):\n",
    "        for i in range(1,len(self.layers)-1):\n",
    "            self.activation.append(np.hstack((np.ones((lengthMat,1)),self.sigmoid(np.dot(self.activation[i-1],self.parameters[i-1].T))))) #Adding the bias neuron and calculating the activation layer\n",
    "        self.activation.append(self.sigmoid(np.dot(self.activation[i],self.parameters[i].T)))\n",
    "\n",
    "    #Sigmoid Function as the activation function\n",
    "    def sigmoid(self,X):\n",
    "        return 1/(1+np.exp(-X))\n",
    "\n",
    "    #Backward Propagation for calculating the delta for every layer\n",
    "    def backwardPropagation(self):\n",
    "        for i in range(len(self.layers)-2,0,-1):\n",
    "            self.delta.append(np.dot(self.delta[-1],self.parameters[i][:,1:])*self.activation[i][:,1:]*(1-self.activation[i][:,1:]))\n",
    "        self.delta = self.delta[::-1]\n",
    "    \n",
    "    #Calculate the loss and accuracy for test data\n",
    "    def test(self, testset, tar):\n",
    "        target = self.oneHot(tar)\n",
    "        accuracy, loss = self.calcAccuracy(testset,target)\n",
    "        print(\"Accuracy: \",accuracy)\n",
    "    \n",
    "    #Caculation of accuracy for provided dataset and target \n",
    "    def calcAccuracy(self,testset,target):\n",
    "        self.activation.append(np.hstack((np.ones((len(testset),1)),testset)))\n",
    "        self.forwardPropagation(len(testset))\n",
    "        outputs = self.activation[-1]  \n",
    "        correct = (np.argmax(outputs, axis=1) == np.argmax(target, axis=1)).sum()\n",
    "        loss = np.sum((outputs - target)**2)/len(testset)\n",
    "        self.activation = []\n",
    "        accuracy = correct*100/len(testset)\n",
    "        return accuracy, loss\n",
    "\n",
    "    #One-Hot encoding for target\n",
    "    def oneHot(self,output):\n",
    "        output = output.astype(np.int64)\n",
    "        value = np.zeros((output.shape[0],10))\n",
    "        value[np.arange(output.shape[0]),output] = 1\n",
    "        return value\n",
    "\n"
   ]
  },
  {
   "cell_type": "code",
   "execution_count": 138,
   "metadata": {},
   "outputs": [],
   "source": [
    "#Download the dataset for Digit Recognition \n",
    "from sklearn import datasets\n",
    "mNist = datasets.fetch_openml('mnist_784')"
   ]
  },
  {
   "cell_type": "code",
   "execution_count": 141,
   "metadata": {},
   "outputs": [
    {
     "name": "stdout",
     "output_type": "stream",
     "text": [
      "Epochs 10: \n",
      " Train Set \t Loss: 0.255785397852194 \t Accuracy = 84.86190476190477 \n",
      " Validation Set \t Loss: 0.2681341853357145 \t Accuracy = 83.95555555555555\n",
      "Epochs 20: \n",
      " Train Set \t Loss: 0.22358856087778908 \t Accuracy = 86.25238095238095 \n",
      " Validation Set \t Loss: 0.23965660040382192 \t Accuracy = 85.02222222222223\n",
      "Epochs 30: \n",
      " Train Set \t Loss: 0.2291510613007532 \t Accuracy = 86.0 \n",
      " Validation Set \t Loss: 0.24717255740911767 \t Accuracy = 84.6\n",
      "Epochs 40: \n",
      " Train Set \t Loss: 0.21317604878932717 \t Accuracy = 86.46428571428571 \n",
      " Validation Set \t Loss: 0.23676881300613184 \t Accuracy = 84.55555555555556\n",
      "Epochs 50: \n",
      " Train Set \t Loss: 0.18866611949244183 \t Accuracy = 88.19285714285714 \n",
      " Validation Set \t Loss: 0.2031375404956315 \t Accuracy = 86.82222222222222\n",
      "Epochs 60: \n",
      " Train Set \t Loss: 0.1867672790003504 \t Accuracy = 88.17857142857143 \n",
      " Validation Set \t Loss: 0.20366918732171643 \t Accuracy = 87.04444444444445\n",
      "Epochs 70: \n",
      " Train Set \t Loss: 0.1753585713423922 \t Accuracy = 89.06904761904762 \n",
      " Validation Set \t Loss: 0.19236100310915658 \t Accuracy = 87.9\n",
      "Epochs 80: \n",
      " Train Set \t Loss: 0.17923178342651386 \t Accuracy = 88.99285714285715 \n",
      " Validation Set \t Loss: 0.2014124329567593 \t Accuracy = 87.2\n",
      "Epochs 90: \n",
      " Train Set \t Loss: 0.17074061980227148 \t Accuracy = 89.44761904761904 \n",
      " Validation Set \t Loss: 0.18921776703633206 \t Accuracy = 88.36666666666666\n",
      "Epochs 100: \n",
      " Train Set \t Loss: 0.16673541471184777 \t Accuracy = 89.42142857142858 \n",
      " Validation Set \t Loss: 0.18693069829581074 \t Accuracy = 88.28888888888889\n",
      "Epochs 110: \n",
      " Train Set \t Loss: 0.16298829123938613 \t Accuracy = 89.97142857142858 \n",
      " Validation Set \t Loss: 0.1847427383479426 \t Accuracy = 88.4888888888889\n",
      "Epochs 120: \n",
      " Train Set \t Loss: 0.14727196781009497 \t Accuracy = 90.75238095238095 \n",
      " Validation Set \t Loss: 0.17449034883802628 \t Accuracy = 88.87777777777778\n",
      "Epochs 130: \n",
      " Train Set \t Loss: 0.15756317050968302 \t Accuracy = 90.00714285714285 \n",
      " Validation Set \t Loss: 0.18057908419942767 \t Accuracy = 88.58888888888889\n",
      "Epochs 140: \n",
      " Train Set \t Loss: 0.15793896187567447 \t Accuracy = 90.24761904761905 \n",
      " Validation Set \t Loss: 0.18371276892404462 \t Accuracy = 88.5111111111111\n",
      "Epochs 150: \n",
      " Train Set \t Loss: 0.16630221772706358 \t Accuracy = 89.65714285714286 \n",
      " Validation Set \t Loss: 0.1886269057105456 \t Accuracy = 88.03333333333333\n"
     ]
    }
   ],
   "source": [
    "#Creating object of Neural Networks\n",
    "obj = NeuralNetworks([784,30,10],mNist.data[:51000],mNist.target[:51000],150,1,0.005)\n",
    "obj.neuralNet()"
   ]
  },
  {
   "cell_type": "markdown",
   "metadata": {},
   "source": [
    "### __Accuracy__ __on__ __Test__ __Set__"
   ]
  },
  {
   "cell_type": "code",
   "execution_count": 179,
   "metadata": {},
   "outputs": [
    {
     "name": "stdout",
     "output_type": "stream",
     "text": [
      "Accuracy of Test Set: \n",
      "\n",
      "Accuracy:  89.72631578947369\n"
     ]
    }
   ],
   "source": [
    "print(\"Accuracy of Test Set: \\n\")\n",
    "obj.test(mNist.data[51000:],mNist.target[51000:])"
   ]
  },
  {
   "cell_type": "markdown",
   "metadata": {},
   "source": [
    "### __Plotting__ __Accuracy__ __vs__ __Number__ __of__ __Epochs__"
   ]
  },
  {
   "cell_type": "code",
   "execution_count": 153,
   "metadata": {},
   "outputs": [
    {
     "data": {
      "text/plain": [
       "Text(0.5, 1.0, 'Accuracy Vs Number of Epochs')"
      ]
     },
     "execution_count": 153,
     "metadata": {},
     "output_type": "execute_result"
    },
    {
     "data": {
      "image/png": "[encoded data removed]",
      "text/plain": [
       "<Figure size 540x252 with 1 Axes>"
      ]
     },
     "metadata": {
      "needs_background": "light"
     },
     "output_type": "display_data"
    }
   ],
   "source": [
    "plt.plot(obj.accuracyTrain,label='Train Accuracy')\n",
    "plt.plot(obj.accuracyVal, label='Validation Accuracy')\n",
    "plt.legend()\n",
    "plt.xlabel(\"No. of Epochs\")\n",
    "plt.ylabel(\"Accuracy\")\n",
    "plt.title(\"Accuracy Vs Number of Epochs\")"
   ]
  },
  {
   "cell_type": "markdown",
   "metadata": {},
   "source": [
    "# Using Pytorch"
   ]
  },
  {
   "cell_type": "code",
   "execution_count": 155,
   "metadata": {},
   "outputs": [],
   "source": [
    "import torch\n",
    "from torch import nn\n",
    "import torch.nn.functional as F\n",
    "from torchvision import datasets, transforms\n",
    "from torch.utils.data import DataLoader,random_split"
   ]
  },
  {
   "cell_type": "markdown",
   "metadata": {},
   "source": [
    "# Q3 Comparison with implementation from scratch"
   ]
  },
  {
   "cell_type": "code",
   "execution_count": 156,
   "metadata": {},
   "outputs": [],
   "source": [
    "#Download the dataset \n",
    "traindata = datasets.MNIST(root=\"./data\", train=True, transform=transforms.ToTensor(), download=True)\n",
    "dataValid,dataTest,dataTrain = random_split(traindata, [9000,9000,42000], generator=torch.Generator().manual_seed(42)) #Random Split into Test,Validation and Train\n",
    "trainLoader = DataLoader(dataTrain, batch_size=1, shuffle=True) #Train Set with batchsize = 1\n",
    "testLoader = DataLoader(dataTest, batch_size=len(dataTest), shuffle=True) #Test Set\n",
    "validLoader = DataLoader(dataValid, batch_size=len(dataValid), shuffle=True) #Validation Set\n",
    "trainloaderFull = DataLoader(dataTrain, batch_size=len(dataTrain), shuffle=True) #Train Set"
   ]
  },
  {
   "cell_type": "code",
   "execution_count": 160,
   "metadata": {},
   "outputs": [
    {
     "name": "stdout",
     "output_type": "stream",
     "text": [
      "Epochs 1: \n",
      " Train Set \t Loss: 0.08803049474954605 \t Accuracy = 32.659523010253906 \n",
      " Validation Set \t Loss: 0.08807530254125595 \t Accuracy = 31.988889694213867\n",
      "Epochs 2: \n",
      " Train Set \t Loss: 0.08341872692108154 \t Accuracy = 36.83095169067383 \n",
      " Validation Set \t Loss: 0.08355171233415604 \t Accuracy = 36.155555725097656\n",
      "Epochs 3: \n",
      " Train Set \t Loss: 0.07353410869836807 \t Accuracy = 53.44761657714844 \n",
      " Validation Set \t Loss: 0.0737907886505127 \t Accuracy = 52.72222137451172\n",
      "Epochs 4: \n",
      " Train Set \t Loss: 0.06288120150566101 \t Accuracy = 63.157142639160156 \n",
      " Validation Set \t Loss: 0.0631667971611023 \t Accuracy = 62.4555549621582\n",
      "Epochs 5: \n",
      " Train Set \t Loss: 0.054203420877456665 \t Accuracy = 68.79523468017578 \n",
      " Validation Set \t Loss: 0.05450761690735817 \t Accuracy = 68.34444427490234\n",
      "Epochs 6: \n",
      " Train Set \t Loss: 0.047743115574121475 \t Accuracy = 75.16666412353516 \n",
      " Validation Set \t Loss: 0.04805712401866913 \t Accuracy = 74.53333282470703\n",
      "Epochs 7: \n",
      " Train Set \t Loss: 0.042795710265636444 \t Accuracy = 79.6047592163086 \n",
      " Validation Set \t Loss: 0.04310372471809387 \t Accuracy = 78.83333587646484\n",
      "Epochs 8: \n",
      " Train Set \t Loss: 0.038823358714580536 \t Accuracy = 82.32380676269531 \n",
      " Validation Set \t Loss: 0.03914831206202507 \t Accuracy = 81.77777862548828\n",
      "Epochs 9: \n",
      " Train Set \t Loss: 0.0355554036796093 \t Accuracy = 84.02857208251953 \n",
      " Validation Set \t Loss: 0.03590332716703415 \t Accuracy = 83.37777709960938\n",
      "Epochs 10: \n",
      " Train Set \t Loss: 0.03284949064254761 \t Accuracy = 85.33809661865234 \n",
      " Validation Set \t Loss: 0.033208828419446945 \t Accuracy = 85.02222442626953\n",
      "Epochs 11: \n",
      " Train Set \t Loss: 0.03060571849346161 \t Accuracy = 86.25714111328125 \n",
      " Validation Set \t Loss: 0.030975911766290665 \t Accuracy = 85.82221984863281\n",
      "Epochs 12: \n",
      " Train Set \t Loss: 0.028725268319249153 \t Accuracy = 86.81666564941406 \n",
      " Validation Set \t Loss: 0.0291123203933239 \t Accuracy = 86.35556030273438\n",
      "Epochs 13: \n",
      " Train Set \t Loss: 0.027162322774529457 \t Accuracy = 87.4095230102539 \n",
      " Validation Set \t Loss: 0.027566194534301758 \t Accuracy = 86.95555877685547\n",
      "Epochs 14: \n",
      " Train Set \t Loss: 0.025829410180449486 \t Accuracy = 87.88809204101562 \n",
      " Validation Set \t Loss: 0.02623775601387024 \t Accuracy = 87.46666717529297\n",
      "Epochs 15: \n",
      " Train Set \t Loss: 0.024709030985832214 \t Accuracy = 88.21666717529297 \n",
      " Validation Set \t Loss: 0.025129174813628197 \t Accuracy = 87.78888702392578\n",
      "Epochs 16: \n",
      " Train Set \t Loss: 0.023733943700790405 \t Accuracy = 88.49285888671875 \n",
      " Validation Set \t Loss: 0.024173464626073837 \t Accuracy = 88.14444732666016\n",
      "Epochs 17: \n",
      " Train Set \t Loss: 0.022900208830833435 \t Accuracy = 88.75 \n",
      " Validation Set \t Loss: 0.02335416153073311 \t Accuracy = 88.35556030273438\n",
      "Epochs 18: \n",
      " Train Set \t Loss: 0.02217732183635235 \t Accuracy = 89.00714111328125 \n",
      " Validation Set \t Loss: 0.022640908136963844 \t Accuracy = 88.5777816772461\n",
      "Epochs 19: \n",
      " Train Set \t Loss: 0.021528612822294235 \t Accuracy = 89.20475769042969 \n",
      " Validation Set \t Loss: 0.022006522864103317 \t Accuracy = 88.74444580078125\n",
      "Epochs 20: \n",
      " Train Set \t Loss: 0.020961305126547813 \t Accuracy = 89.38571166992188 \n",
      " Validation Set \t Loss: 0.021459432318806648 \t Accuracy = 88.9000015258789\n",
      "Epochs 21: \n",
      " Train Set \t Loss: 0.020438455045223236 \t Accuracy = 89.55476379394531 \n",
      " Validation Set \t Loss: 0.020952623337507248 \t Accuracy = 88.95555877685547\n",
      "Epochs 22: \n",
      " Train Set \t Loss: 0.019976811483502388 \t Accuracy = 89.6690444946289 \n",
      " Validation Set \t Loss: 0.020501749590039253 \t Accuracy = 89.22222137451172\n",
      "Epochs 23: \n",
      " Train Set \t Loss: 0.019559942185878754 \t Accuracy = 89.79047393798828 \n",
      " Validation Set \t Loss: 0.02011135220527649 \t Accuracy = 89.24444580078125\n",
      "Epochs 24: \n",
      " Train Set \t Loss: 0.019169514998793602 \t Accuracy = 89.94761657714844 \n",
      " Validation Set \t Loss: 0.019726194441318512 \t Accuracy = 89.3888931274414\n",
      "Epochs 25: \n",
      " Train Set \t Loss: 0.01880885660648346 \t Accuracy = 90.12857055664062 \n",
      " Validation Set \t Loss: 0.019379831850528717 \t Accuracy = 89.47777557373047\n",
      "Epochs 26: \n",
      " Train Set \t Loss: 0.018482767045497894 \t Accuracy = 90.20714569091797 \n",
      " Validation Set \t Loss: 0.019073259085416794 \t Accuracy = 89.5888900756836\n",
      "Epochs 27: \n",
      " Train Set \t Loss: 0.018173273652791977 \t Accuracy = 90.38571166992188 \n",
      " Validation Set \t Loss: 0.018775276839733124 \t Accuracy = 89.74444580078125\n",
      "Epochs 28: \n",
      " Train Set \t Loss: 0.01789410039782524 \t Accuracy = 90.48094940185547 \n",
      " Validation Set \t Loss: 0.01852191612124443 \t Accuracy = 89.80000305175781\n",
      "Epochs 29: \n",
      " Train Set \t Loss: 0.017625806853175163 \t Accuracy = 90.55476379394531 \n",
      " Validation Set \t Loss: 0.018260199576616287 \t Accuracy = 89.9000015258789\n",
      "Epochs 30: \n",
      " Train Set \t Loss: 0.017374977469444275 \t Accuracy = 90.68333435058594 \n",
      " Validation Set \t Loss: 0.018024180084466934 \t Accuracy = 90.0111083984375\n"
     ]
    }
   ],
   "source": [
    "#Define the model for the neural Networks\n",
    "model = torch.nn.Sequential(\n",
    "    nn.Linear(784, 30),\n",
    "    nn.Sigmoid(),\n",
    "    nn.Linear(30, 10),\n",
    "    nn.Sigmoid()\n",
    ").cuda()\n",
    "#Defining the MSE Loss function\n",
    "LOSS = nn.MSELoss().cuda()\n",
    "#Using SDG as the Optimizer\n",
    "OPT = torch.optim.SGD(model.parameters(), lr=0.005)\n",
    "EPOCHS = 30\n",
    "listAccuracyTrain = [] #To store the accuracy of train set after every epoch\n",
    "listAccuracyValid = [] #To store the accuracy of validation set after every epoch\n",
    "for epoch in range(EPOCHS):\n",
    "    for batch_no, data in enumerate(trainLoader):\n",
    "        X_batch, y_batch = data\n",
    "        X_batch = X_batch.cuda()\n",
    "        y_batch = y_batch.cuda()\n",
    "        #Forward Propagation\n",
    "        outputs = model(X_batch.view(-1, 784)) \n",
    "        #Calculation of Loss\n",
    "        loss = LOSS(outputs, F.one_hot(y_batch, num_classes=10).float())\n",
    "        #Backward Propagation \n",
    "        OPT.zero_grad()\n",
    "        loss.backward()\n",
    "        OPT.step()\n",
    "    #Calculate the Accuracy and Loss on trainset\n",
    "    for batch_no,data in enumerate(trainloaderFull):\n",
    "        X, y = data\n",
    "        X = X.cuda()\n",
    "        y = y.cuda()\n",
    "        outputsTrain = model(X.view(-1,784))\n",
    "        lossTrain = LOSS(outputsTrain, F.one_hot(y, num_classes=10).float())\n",
    "        accuracyTrain = 100 * (torch.argmax(outputsTrain,dim=1) == y).sum() / len(X)\n",
    "    #Calculate the Accuracy and Loss on Validation \n",
    "    for batch_no,data in enumerate(validLoader):\n",
    "        X, y = data\n",
    "        X = X.cuda()\n",
    "        y = y.cuda()\n",
    "        outputsValid = model(X.view(-1,784))\n",
    "        lossValid = LOSS(outputsValid, F.one_hot(y, num_classes=10).float())\n",
    "        accuracyValid = 100 * (torch.argmax(outputsValid,dim=1) == y).sum() / len(X)\n",
    "    listAccuracyTrain.append(accuracyTrain)\n",
    "    listAccuracyValid.append(accuracyValid)\n",
    "    print(\"Epochs {}: \\n Train Set \\t Loss: {} \\t Accuracy = {} \\n Validation Set \\t Loss: {} \\t Accuracy = {}\".format(epoch+1,lossTrain,accuracyTrain,lossValid,accuracyValid))"
   ]
  },
  {
   "cell_type": "markdown",
   "metadata": {},
   "source": [
    "### Accuracy on Test Set"
   ]
  },
  {
   "cell_type": "code",
   "execution_count": 161,
   "metadata": {},
   "outputs": [],
   "source": [
    "for b,data in enumerate(testLoader):\n",
    "        X, y = data\n",
    "        X = X.cuda()\n",
    "        y = y.cuda()\n",
    "        outputsTest = model(X.view(-1,784))\n",
    "        lossTest = LOSS(outputsValid, F.one_hot(y, num_classes=10).float())\n",
    "        accuracyTest = 100 * (torch.argmax(outputsTest,dim=1) == y).sum() / len(X)"
   ]
  },
  {
   "cell_type": "code",
   "execution_count": 162,
   "metadata": {},
   "outputs": [
    {
     "name": "stdout",
     "output_type": "stream",
     "text": [
      "Accuracy and Loss of Test Set: \n",
      " Accuracy: 90.71111297607422 \n",
      " Loss: 0.14922881126403809\n"
     ]
    }
   ],
   "source": [
    "print(\"Accuracy and Loss of Test Set: \\n Accuracy: {} \\n Loss: {}\".format(accuracyTest,lossTest))"
   ]
  },
  {
   "cell_type": "markdown",
   "metadata": {},
   "source": [
    "### Plotting Accuracy vs Number of Epochs"
   ]
  },
  {
   "cell_type": "code",
   "execution_count": 170,
   "metadata": {},
   "outputs": [],
   "source": [
    "listAccuracyTrain = [i.item() for i in listAccuracyTrain]\n",
    "listAccuracyValid = [i.item() for i in listAccuracyValid]"
   ]
  },
  {
   "cell_type": "code",
   "execution_count": 172,
   "metadata": {},
   "outputs": [
    {
     "data": {
      "image/png": "[encoded data removed]",
      "text/plain": [
       "<Figure size 540x252 with 1 Axes>"
      ]
     },
     "metadata": {
      "needs_background": "light"
     },
     "output_type": "display_data"
    }
   ],
   "source": [
    "plt.plot(listAccuracyTrain, label='Train Accuracy')\n",
    "plt.plot(listAccuracyValid, label='Validation Accuracy')\n",
    "plt.legend()\n",
    "plt.xlabel(\"No. of Epochs\")\n",
    "plt.ylabel(\"Accuracy\")\n",
    "plt.title(\"Accuracy Vs Number of Epochs\")\n",
    "plt.show()"
   ]
  },
  {
   "cell_type": "markdown",
   "metadata": {},
   "source": [
    "### Comparison between Q2 and Q3\n",
    "- We can see that the accuracy of both the algorithms, one build from scratch and the other using pytrch is almost same"
   ]
  },
  {
   "cell_type": "markdown",
   "metadata": {},
   "source": [
    "# Q4 Using Training Tips to improve training process"
   ]
  },
  {
   "cell_type": "markdown",
   "metadata": {},
   "source": [
    "### Changing the Loss Function to CrossEntropy Loss to Improve training process"
   ]
  },
  {
   "cell_type": "code",
   "execution_count": 173,
   "metadata": {},
   "outputs": [],
   "source": [
    "traindata = datasets.MNIST(root=\"./data\", train=True, transform=transforms.ToTensor(), download=True)\n",
    "dataValid,dataTest,dataTrain = random_split(traindata, [9000,9000,42000], generator=torch.Generator().manual_seed(42))\n",
    "testLoader = DataLoader(dataTest, batch_size=len(dataTest), shuffle=True)\n",
    "validLoader = DataLoader(dataValid, batch_size=len(dataValid), shuffle=True)\n",
    "trainloaderFull = DataLoader(traindata, batch_size=len(dataTrain), shuffle=True)\n",
    "trainLoader = DataLoader(dataTrain, batch_size=1, shuffle=True)"
   ]
  },
  {
   "cell_type": "code",
   "execution_count": 177,
   "metadata": {},
   "outputs": [
    {
     "name": "stdout",
     "output_type": "stream",
     "text": [
      "Epochs 1: \n",
      " Train Set \t Loss: 1.6878418922424316 \t Accuracy = 83.77222442626953 \n",
      " Validation Set \t Loss: 1.6908849477767944 \t Accuracy = 83.4888916015625\n",
      "Epochs 2: \n",
      " Train Set \t Loss: 1.6242867708206177 \t Accuracy = 87.02222442626953 \n",
      " Validation Set \t Loss: 1.6284023523330688 \t Accuracy = 86.3888931274414\n",
      "Epochs 3: \n",
      " Train Set \t Loss: 1.597713589668274 \t Accuracy = 87.63333129882812 \n",
      " Validation Set \t Loss: 1.6016926765441895 \t Accuracy = 87.4111099243164\n",
      "Epochs 4: \n",
      " Train Set \t Loss: 1.5814381837844849 \t Accuracy = 88.74444580078125 \n",
      " Validation Set \t Loss: 1.586452603340149 \t Accuracy = 87.93333435058594\n",
      "Epochs 5: \n",
      " Train Set \t Loss: 1.5699405670166016 \t Accuracy = 89.93333435058594 \n",
      " Validation Set \t Loss: 1.5768320560455322 \t Accuracy = 89.31111145019531\n",
      "Epochs 6: \n",
      " Train Set \t Loss: 1.5658081769943237 \t Accuracy = 90.67778015136719 \n",
      " Validation Set \t Loss: 1.568973422050476 \t Accuracy = 90.5777816772461\n",
      "Epochs 7: \n",
      " Train Set \t Loss: 1.5547583103179932 \t Accuracy = 91.7388916015625 \n",
      " Validation Set \t Loss: 1.5608769655227661 \t Accuracy = 91.36666870117188\n",
      "Epochs 8: \n",
      " Train Set \t Loss: 1.552474856376648 \t Accuracy = 91.80555725097656 \n",
      " Validation Set \t Loss: 1.5553622245788574 \t Accuracy = 91.62222290039062\n",
      "Epochs 9: \n",
      " Train Set \t Loss: 1.5457055568695068 \t Accuracy = 92.27777862548828 \n",
      " Validation Set \t Loss: 1.5511842966079712 \t Accuracy = 91.9888916015625\n",
      "Epochs 10: \n",
      " Train Set \t Loss: 1.541912317276001 \t Accuracy = 92.77222442626953 \n",
      " Validation Set \t Loss: 1.5476306676864624 \t Accuracy = 92.18888854980469\n",
      "Epochs 11: \n",
      " Train Set \t Loss: 1.5401972532272339 \t Accuracy = 92.8388900756836 \n",
      " Validation Set \t Loss: 1.544694423675537 \t Accuracy = 92.4888916015625\n",
      "Epochs 12: \n",
      " Train Set \t Loss: 1.5346835851669312 \t Accuracy = 93.16666412353516 \n",
      " Validation Set \t Loss: 1.5430219173431396 \t Accuracy = 92.4111099243164\n",
      "Epochs 13: \n",
      " Train Set \t Loss: 1.5345827341079712 \t Accuracy = 93.14444732666016 \n",
      " Validation Set \t Loss: 1.5411192178726196 \t Accuracy = 92.54444885253906\n",
      "Epochs 14: \n",
      " Train Set \t Loss: 1.5345150232315063 \t Accuracy = 93.02777862548828 \n",
      " Validation Set \t Loss: 1.5390926599502563 \t Accuracy = 92.76667022705078\n",
      "Epochs 15: \n",
      " Train Set \t Loss: 1.5313507318496704 \t Accuracy = 93.37777709960938 \n",
      " Validation Set \t Loss: 1.5374408960342407 \t Accuracy = 92.84444427490234\n",
      "Epochs 16: \n",
      " Train Set \t Loss: 1.5306634902954102 \t Accuracy = 93.37777709960938 \n",
      " Validation Set \t Loss: 1.5364221334457397 \t Accuracy = 92.86666870117188\n",
      "Epochs 17: \n",
      " Train Set \t Loss: 1.528794527053833 \t Accuracy = 93.53333282470703 \n",
      " Validation Set \t Loss: 1.5350359678268433 \t Accuracy = 92.87777709960938\n",
      "Epochs 18: \n",
      " Train Set \t Loss: 1.5268924236297607 \t Accuracy = 93.6500015258789 \n",
      " Validation Set \t Loss: 1.5337393283843994 \t Accuracy = 92.97777557373047\n",
      "Epochs 19: \n",
      " Train Set \t Loss: 1.5257048606872559 \t Accuracy = 93.77222442626953 \n",
      " Validation Set \t Loss: 1.5328401327133179 \t Accuracy = 93.0111083984375\n",
      "Epochs 20: \n",
      " Train Set \t Loss: 1.5256662368774414 \t Accuracy = 93.70000457763672 \n",
      " Validation Set \t Loss: 1.532209873199463 \t Accuracy = 93.02222442626953\n",
      "Epochs 21: \n",
      " Train Set \t Loss: 1.5257445573806763 \t Accuracy = 93.66666412353516 \n",
      " Validation Set \t Loss: 1.5311219692230225 \t Accuracy = 93.25555419921875\n",
      "Epochs 22: \n",
      " Train Set \t Loss: 1.5239177942276 \t Accuracy = 93.8277816772461 \n",
      " Validation Set \t Loss: 1.5302033424377441 \t Accuracy = 93.24444580078125\n",
      "Epochs 23: \n",
      " Train Set \t Loss: 1.5217680931091309 \t Accuracy = 94.0888900756836 \n",
      " Validation Set \t Loss: 1.52963125705719 \t Accuracy = 93.4000015258789\n",
      "Epochs 24: \n",
      " Train Set \t Loss: 1.5215988159179688 \t Accuracy = 93.95000457763672 \n",
      " Validation Set \t Loss: 1.5293060541152954 \t Accuracy = 93.33333587646484\n",
      "Epochs 25: \n",
      " Train Set \t Loss: 1.5200804471969604 \t Accuracy = 94.23333740234375 \n",
      " Validation Set \t Loss: 1.5284088850021362 \t Accuracy = 93.44444274902344\n",
      "Epochs 26: \n",
      " Train Set \t Loss: 1.5197625160217285 \t Accuracy = 94.25555419921875 \n",
      " Validation Set \t Loss: 1.5277124643325806 \t Accuracy = 93.4888916015625\n",
      "Epochs 27: \n",
      " Train Set \t Loss: 1.5192177295684814 \t Accuracy = 94.24444580078125 \n",
      " Validation Set \t Loss: 1.526821255683899 \t Accuracy = 93.52222442626953\n",
      "Epochs 28: \n",
      " Train Set \t Loss: 1.5171781778335571 \t Accuracy = 94.54444885253906 \n",
      " Validation Set \t Loss: 1.526531457901001 \t Accuracy = 93.5777816772461\n",
      "Epochs 29: \n",
      " Train Set \t Loss: 1.5182253122329712 \t Accuracy = 94.46666717529297 \n",
      " Validation Set \t Loss: 1.5260571241378784 \t Accuracy = 93.54444885253906\n",
      "Epochs 30: \n",
      " Train Set \t Loss: 1.5165019035339355 \t Accuracy = 94.71111297607422 \n",
      " Validation Set \t Loss: 1.5257272720336914 \t Accuracy = 93.5999984741211\n"
     ]
    }
   ],
   "source": [
    "model = torch.nn.Sequential(\n",
    "    nn.Linear(784, 30),\n",
    "    nn.Sigmoid(),\n",
    "    nn.Linear(30, 10),\n",
    "    nn.Sigmoid()\n",
    ").cuda()\n",
    "LOSS = nn.CrossEntropyLoss().cuda()\n",
    "OPT = torch.optim.SGD(model.parameters(), lr=0.01)\n",
    "EPOCHS = 30\n",
    "listAccuracyTrainCross = []\n",
    "listAccuracyValidCross = []\n",
    "\n",
    "for epoch in range(EPOCHS):\n",
    "    for batch_no, data in enumerate(trainLoader):\n",
    "        X_batch, y_batch = data\n",
    "        X_batch = X_batch.cuda()\n",
    "        y_batch = y_batch.cuda()\n",
    "        #forward\n",
    "        outputs = model(X_batch.view(-1, 784))\n",
    "        #loss\n",
    "        loss = LOSS(outputs, F.one_hot(y_batch, num_classes=10).float())\n",
    "        #backward\n",
    "        OPT.zero_grad()\n",
    "        loss.backward()\n",
    "        OPT.step()\n",
    "    for batch_no,data in enumerate(trainloaderFull):\n",
    "        X, y = data\n",
    "        X = X.cuda()\n",
    "        y = y.cuda()\n",
    "        outputsTrain = model(X.view(-1,784))\n",
    "        lossTrain = LOSS(outputsTrain, F.one_hot(y, num_classes=10).float())\n",
    "        accuracyTrain = 100 * (torch.argmax(outputsTrain,dim=1) == y).sum() / len(X)\n",
    "    for batch_no,data in enumerate(validLoader):\n",
    "        X, y = data\n",
    "        X = X.cuda()\n",
    "        y = y.cuda()\n",
    "        outputsValid = model(X.view(-1,784))\n",
    "        lossValid = LOSS(outputsValid, F.one_hot(y, num_classes=10).float())\n",
    "        accuracyValid = 100 * (torch.argmax(outputsValid,dim=1) == y).sum() / len(X)\n",
    "    listAccuracyTrainCross.append(accuracyTrain)\n",
    "    listAccuracyValidCross.append(accuracyValid)\n",
    "    print(\"Epochs {}: \\n Train Set \\t Loss: {} \\t Accuracy = {} \\n Validation Set \\t Loss: {} \\t Accuracy = {}\".format(epoch+1,lossTrain,accuracyTrain,lossValid,accuracyValid))"
   ]
  },
  {
   "cell_type": "code",
   "execution_count": 201,
   "metadata": {},
   "outputs": [
    {
     "data": {
      "image/png": "[encoded data removed]",
      "text/plain": [
       "<Figure size 540x252 with 1 Axes>"
      ]
     },
     "metadata": {
      "needs_background": "light"
     },
     "output_type": "display_data"
    }
   ],
   "source": [
    "plt.plot(listAccuracyTrainCross, label='Train Accuracy')\n",
    "plt.plot(listAccuracyValidCross, label='Validation Accuracy')\n",
    "plt.legend()\n",
    "plt.xlabel(\"No. of Epochs\")\n",
    "plt.ylabel(\"Accuracy\")\n",
    "plt.title(\"Accuracy Vs Number of Epochs\")\n",
    "plt.show()"
   ]
  },
  {
   "cell_type": "markdown",
   "metadata": {},
   "source": [
    "#### Changing the Loss function increases the accuracy on training, Testing and learning speed "
   ]
  },
  {
   "cell_type": "markdown",
   "metadata": {},
   "source": [
    "### Changing the learning rate to 0.01 also increases the Accuracy"
   ]
  },
  {
   "cell_type": "code",
   "execution_count": 131,
   "metadata": {},
   "outputs": [],
   "source": [
    "traindata = datasets.MNIST(root=\"./data\", train=True, transform=transforms.ToTensor(), download=True)\n",
    "dataValid,dataTest,dataTrain = random_split(traindata, [9000,9000,42000], generator=torch.Generator().manual_seed(42))\n",
    "testLoader = DataLoader(dataTest, batch_size=len(dataTest), shuffle=True)\n",
    "validLoader = DataLoader(dataValid, batch_size=len(dataValid), shuffle=True)\n",
    "trainloaderFull = DataLoader(traindata, batch_size=len(dataTrain), shuffle=True)\n",
    "trainLoader = DataLoader(dataTrain, batch_size=1, shuffle=True)"
   ]
  },
  {
   "cell_type": "code",
   "execution_count": 132,
   "metadata": {},
   "outputs": [
    {
     "name": "stdout",
     "output_type": "stream",
     "text": [
      "Epochs 1: \n",
      " Train Set \t Loss: 0.08381203562021255 \t Accuracy = 34.25 \n",
      " Validation Set \t Loss: 0.08394546061754227 \t Accuracy = 33.67777633666992\n",
      "Epochs 2: \n",
      " Train Set \t Loss: 0.06554482877254486 \t Accuracy = 60.71111297607422 \n",
      " Validation Set \t Loss: 0.0655660405755043 \t Accuracy = 60.78889083862305\n",
      "Epochs 3: \n",
      " Train Set \t Loss: 0.049720704555511475 \t Accuracy = 73.28333282470703 \n",
      " Validation Set \t Loss: 0.04993884637951851 \t Accuracy = 72.81111145019531\n",
      "Epochs 4: \n",
      " Train Set \t Loss: 0.040387917309999466 \t Accuracy = 79.0777816772461 \n",
      " Validation Set \t Loss: 0.04064389690756798 \t Accuracy = 79.12222290039062\n",
      "Epochs 5: \n",
      " Train Set \t Loss: 0.033811263740062714 \t Accuracy = 84.30555725097656 \n",
      " Validation Set \t Loss: 0.03458321839570999 \t Accuracy = 83.5888900756836\n",
      "Epochs 6: \n",
      " Train Set \t Loss: 0.029899094253778458 \t Accuracy = 86.52777862548828 \n",
      " Validation Set \t Loss: 0.030291637405753136 \t Accuracy = 86.37777709960938\n",
      "Epochs 7: \n",
      " Train Set \t Loss: 0.026472385972738266 \t Accuracy = 88.03888702392578 \n",
      " Validation Set \t Loss: 0.027069376781582832 \t Accuracy = 87.33333587646484\n",
      "Epochs 8: \n",
      " Train Set \t Loss: 0.023959804326295853 \t Accuracy = 88.78888702392578 \n",
      " Validation Set \t Loss: 0.02467948943376541 \t Accuracy = 88.20000457763672\n",
      "Epochs 9: \n",
      " Train Set \t Loss: 0.02270665392279625 \t Accuracy = 88.90555572509766 \n",
      " Validation Set \t Loss: 0.022915169596672058 \t Accuracy = 88.65555572509766\n",
      "Epochs 10: \n",
      " Train Set \t Loss: 0.02091118134558201 \t Accuracy = 89.7388916015625 \n",
      " Validation Set \t Loss: 0.02157468907535076 \t Accuracy = 88.9111099243164\n",
      "Epochs 11: \n",
      " Train Set \t Loss: 0.02021854557096958 \t Accuracy = 89.7388916015625 \n",
      " Validation Set \t Loss: 0.020487874746322632 \t Accuracy = 89.33333587646484\n",
      "Epochs 12: \n",
      " Train Set \t Loss: 0.019291812554001808 \t Accuracy = 89.86111450195312 \n",
      " Validation Set \t Loss: 0.019614027813076973 \t Accuracy = 89.56666564941406\n",
      "Epochs 13: \n",
      " Train Set \t Loss: 0.018386241048574448 \t Accuracy = 90.20000457763672 \n",
      " Validation Set \t Loss: 0.01891544833779335 \t Accuracy = 89.77777862548828\n",
      "Epochs 14: \n",
      " Train Set \t Loss: 0.0176862720400095 \t Accuracy = 90.76667022705078 \n",
      " Validation Set \t Loss: 0.01829889975488186 \t Accuracy = 89.94444274902344\n",
      "Epochs 15: \n",
      " Train Set \t Loss: 0.017103414982557297 \t Accuracy = 91.05000305175781 \n",
      " Validation Set \t Loss: 0.017788561061024666 \t Accuracy = 90.24444580078125\n",
      "Epochs 16: \n",
      " Train Set \t Loss: 0.016804708167910576 \t Accuracy = 91.06111145019531 \n",
      " Validation Set \t Loss: 0.01733415573835373 \t Accuracy = 90.3888931274414\n",
      "Epochs 17: \n",
      " Train Set \t Loss: 0.01669083721935749 \t Accuracy = 90.9888916015625 \n",
      " Validation Set \t Loss: 0.016948755830526352 \t Accuracy = 90.47777557373047\n",
      "Epochs 18: \n",
      " Train Set \t Loss: 0.015890363603830338 \t Accuracy = 91.31666564941406 \n",
      " Validation Set \t Loss: 0.01655620150268078 \t Accuracy = 90.61111450195312\n",
      "Epochs 19: \n",
      " Train Set \t Loss: 0.015283677726984024 \t Accuracy = 91.8277816772461 \n",
      " Validation Set \t Loss: 0.016233371570706367 \t Accuracy = 90.9111099243164\n",
      "Epochs 20: \n",
      " Train Set \t Loss: 0.015550538897514343 \t Accuracy = 91.45555877685547 \n",
      " Validation Set \t Loss: 0.015957383438944817 \t Accuracy = 90.93333435058594\n",
      "Epochs 21: \n",
      " Train Set \t Loss: 0.015159528702497482 \t Accuracy = 91.53333282470703 \n",
      " Validation Set \t Loss: 0.01570253074169159 \t Accuracy = 91.11111450195312\n",
      "Epochs 22: \n",
      " Train Set \t Loss: 0.014923877082765102 \t Accuracy = 91.72222137451172 \n",
      " Validation Set \t Loss: 0.015459589660167694 \t Accuracy = 91.15555572509766\n",
      "Epochs 23: \n",
      " Train Set \t Loss: 0.014722363092005253 \t Accuracy = 91.7611083984375 \n",
      " Validation Set \t Loss: 0.01523575559258461 \t Accuracy = 91.27777862548828\n",
      "Epochs 24: \n",
      " Train Set \t Loss: 0.014254003763198853 \t Accuracy = 92.05000305175781 \n",
      " Validation Set \t Loss: 0.01501563098281622 \t Accuracy = 91.3888931274414\n",
      "Epochs 25: \n",
      " Train Set \t Loss: 0.01408710703253746 \t Accuracy = 92.14444732666016 \n",
      " Validation Set \t Loss: 0.014835314825177193 \t Accuracy = 91.44444274902344\n",
      "Epochs 26: \n",
      " Train Set \t Loss: 0.013736092485487461 \t Accuracy = 92.26667022705078 \n",
      " Validation Set \t Loss: 0.014655627310276031 \t Accuracy = 91.44444274902344\n",
      "Epochs 27: \n",
      " Train Set \t Loss: 0.013820016756653786 \t Accuracy = 92.1388931274414 \n",
      " Validation Set \t Loss: 0.014474146068096161 \t Accuracy = 91.54444885253906\n",
      "Epochs 28: \n",
      " Train Set \t Loss: 0.014027819037437439 \t Accuracy = 91.8499984741211 \n",
      " Validation Set \t Loss: 0.014333067461848259 \t Accuracy = 91.64444732666016\n",
      "Epochs 29: \n",
      " Train Set \t Loss: 0.013402349315583706 \t Accuracy = 92.45555877685547 \n",
      " Validation Set \t Loss: 0.01419346034526825 \t Accuracy = 91.73333740234375\n",
      "Epochs 30: \n",
      " Train Set \t Loss: 0.013125606812536716 \t Accuracy = 92.47222137451172 \n",
      " Validation Set \t Loss: 0.014052432961761951 \t Accuracy = 91.84444427490234\n"
     ]
    }
   ],
   "source": [
    "model = torch.nn.Sequential(\n",
    "    nn.Linear(784, 30),\n",
    "    nn.Sigmoid(),\n",
    "    nn.Linear(30, 10),\n",
    "    nn.Sigmoid()\n",
    ").cuda()\n",
    "LOSS = nn.MSELoss().cuda()\n",
    "OPT = torch.optim.SGD(model.parameters(), lr=0.01)\n",
    "EPOCHS = 30\n",
    "\n",
    "for epoch in range(EPOCHS):\n",
    "    for batch_no, data in enumerate(trainLoader):\n",
    "        X_batch, y_batch = data\n",
    "        X_batch = X_batch.cuda()\n",
    "        y_batch = y_batch.cuda()\n",
    "        #forward\n",
    "        outputs = model(X_batch.view(-1, 784))\n",
    "        #loss\n",
    "        loss = LOSS(outputs, F.one_hot(y_batch, num_classes=10).float())\n",
    "        #backward\n",
    "        OPT.zero_grad()\n",
    "        loss.backward()\n",
    "        OPT.step()\n",
    "    for batch_no,data in enumerate(trainloaderFull):\n",
    "        X, y = data\n",
    "        X = X.cuda()\n",
    "        y = y.cuda()\n",
    "        outputsTrain = model(X.view(-1,784))\n",
    "        lossTrain = LOSS(outputsTrain, F.one_hot(y, num_classes=10).float())\n",
    "        accuracyTrain = 100 * (torch.argmax(outputsTrain,dim=1) == y).sum() / len(X)\n",
    "    for batch_no,data in enumerate(validLoader):\n",
    "        X, y = data\n",
    "        X = X.cuda()\n",
    "        y = y.cuda()\n",
    "        outputsValid = model(X.view(-1,784))\n",
    "        lossValid = LOSS(outputsValid, F.one_hot(y, num_classes=10).float())\n",
    "        accuracyValid = 100 * (torch.argmax(outputsValid,dim=1) == y).sum() / len(X)\n",
    "    print(\"Epochs {}: \\n Train Set \\t Loss: {} \\t Accuracy = {} \\n Validation Set \\t Loss: {} \\t Accuracy = {}\".format(epoch+1,lossTrain,accuracyTrain,lossValid,accuracyValid))"
   ]
  }
 ],
 "metadata": {
  "interpreter": {
   "hash": "b3ba2566441a7c06988d0923437866b63cedc61552a5af99d1f4fb67d367b25f"
  },
  "kernelspec": {
   "display_name": "Python 3 (ipykernel)",
   "language": "python",
   "name": "python3"
  },
  "language_info": {
   "codemirror_mode": {
    "name": "ipython",
    "version": 3
   },
   "file_extension": ".py",
   "mimetype": "text/x-python",
   "name": "python",
   "nbconvert_exporter": "python",
   "pygments_lexer": "ipython3",
   "version": "3.8.8"
  }
 },
 "nbformat": 4,
 "nbformat_minor": 2
}
